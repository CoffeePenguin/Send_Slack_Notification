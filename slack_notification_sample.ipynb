{
  "nbformat": 4,
  "nbformat_minor": 0,
  "metadata": {
    "colab": {
      "provenance": [],
      "collapsed_sections": [],
      "authorship_tag": "ABX9TyMQ5nFKBi/Ad9xwfAC7EJqk",
      "include_colab_link": true
    },
    "kernelspec": {
      "name": "python3",
      "display_name": "Python 3"
    },
    "language_info": {
      "name": "python"
    }
  },
  "cells": [
    {
      "cell_type": "markdown",
      "metadata": {
        "id": "view-in-github",
        "colab_type": "text"
      },
      "source": [
        "<a href=\"https://colab.research.google.com/github/CoffeePenguin/Send_Slack_Notification/blob/master/slack_notification_sample.ipynb\" target=\"_parent\"><img src=\"https://colab.research.google.com/assets/colab-badge.svg\" alt=\"Open In Colab\"/></a>"
      ]
    },
    {
      "cell_type": "code",
      "source": [
        "!pip install git+https://github.com/CoffeePenguin/Send_Slack_Notification"
      ],
      "metadata": {
        "colab": {
          "base_uri": "https://localhost:8080/"
        },
        "id": "rjqZnl0AtEQV",
        "outputId": "503f1371-5764-4bbb-d963-1d50624a55ef"
      },
      "execution_count": 11,
      "outputs": [
        {
          "output_type": "stream",
          "name": "stdout",
          "text": [
            "Looking in indexes: https://pypi.org/simple, https://us-python.pkg.dev/colab-wheels/public/simple/\n",
            "Collecting git+https://github.com/CoffeePenguin/Send_Slack_Notification\n",
            "  Cloning https://github.com/CoffeePenguin/Send_Slack_Notification to /tmp/pip-req-build-jgimh4r3\n",
            "  Running command git clone -q https://github.com/CoffeePenguin/Send_Slack_Notification /tmp/pip-req-build-jgimh4r3\n",
            "Requirement already satisfied: requests in /usr/local/lib/python3.7/dist-packages (from send-slack-notification==1.0) (2.23.0)\n",
            "Requirement already satisfied: idna<3,>=2.5 in /usr/local/lib/python3.7/dist-packages (from requests->send-slack-notification==1.0) (2.10)\n",
            "Requirement already satisfied: certifi>=2017.4.17 in /usr/local/lib/python3.7/dist-packages (from requests->send-slack-notification==1.0) (2022.9.24)\n",
            "Requirement already satisfied: urllib3!=1.25.0,!=1.25.1,<1.26,>=1.21.1 in /usr/local/lib/python3.7/dist-packages (from requests->send-slack-notification==1.0) (1.24.3)\n",
            "Requirement already satisfied: chardet<4,>=3.0.2 in /usr/local/lib/python3.7/dist-packages (from requests->send-slack-notification==1.0) (3.0.4)\n"
          ]
        }
      ]
    },
    {
      "cell_type": "code",
      "source": [
        "import send_slack_notification  as ssn"
      ],
      "metadata": {
        "id": "bN2e9vfBtYAo"
      },
      "execution_count": 21,
      "outputs": []
    },
    {
      "cell_type": "code",
      "source": [
        "send_slack = ssn.SendSlackNotification()\n",
        "send_slack.setting() #input your Webhook URL"
      ],
      "metadata": {
        "id": "spj6AHSMtdGf"
      },
      "execution_count": 22,
      "outputs": []
    },
    {
      "cell_type": "code",
      "source": [
        "#　Write a program to run"
      ],
      "metadata": {
        "id": "hrZjWbl0IbwA"
      },
      "execution_count": null,
      "outputs": []
    },
    {
      "cell_type": "code",
      "source": [
        "send_slack.send_message(\"It's a library that notifies Slack.\") #　Notification to slack"
      ],
      "metadata": {
        "id": "ke2KdkpQwZdY"
      },
      "execution_count": 27,
      "outputs": []
    }
  ]
}